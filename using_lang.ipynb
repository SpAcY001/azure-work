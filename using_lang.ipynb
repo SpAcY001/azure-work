{
 "cells": [
  {
   "cell_type": "code",
   "execution_count": 1,
   "metadata": {},
   "outputs": [],
   "source": [
    "from langchain_community.document_loaders import AzureAIDocumentIntelligenceLoader"
   ]
  },
  {
   "cell_type": "code",
   "execution_count": 2,
   "metadata": {},
   "outputs": [],
   "source": [
    "file_path = r\"C:\\Users\\SESA737860\\Desktop\\azure\\testpdf.pdf\"\n",
    "endpoint = \"https://textext.cognitiveservices.azure.com/\"\n",
    "key = \"aae02a4f265d4765b8982788b67d0bd9\"\n",
    "loader = AzureAIDocumentIntelligenceLoader(\n",
    "    api_endpoint=endpoint, api_key=key, file_path=file_path, api_model=\"prebuilt-layout\"\n",
    ")\n",
    "\n",
    "documents = loader.load()"
   ]
  },
  {
   "cell_type": "code",
   "execution_count": 4,
   "metadata": {},
   "outputs": [
    {
     "name": "stdout",
     "output_type": "stream",
     "text": [
      "<figure>\n",
      "\n",
      "![](figures/0)\n",
      "\n",
      "<!-- FigureContent=\"HSBC\" -->\n",
      "\n",
      "</figure>\n",
      "\n",
      "\n",
      "\n",
      "# PRIVATE AND CONFIDENTIAL\n",
      "\n",
      "Ref: CS/BKG/MNC/GWISCOP18089-120215004C/NA CARM: 180322, 170323, 150429, CM040418 & CM190713\n",
      "\n",
      "30 March 2018\n",
      "\n",
      "Schneider Electric Industries (M) Sdn Bhd (SEIM) Schneider Electric (Malaysia) Sdn Bhd (SEM) Schneider Electric IT Malaysia Sdn Bhd (SEI) Gutor Electronic Asia Pacific Sdn Bhd (GEA) DESEA Sdn Bhd (DSB)\n",
      "\n",
      "UNIT TB-18-2, LEVEL 18 TOWER B PLAZA 33, NO 1, JALAN KEMAJUAN SEKSYEN 13 46200 PJ SELANGOR MY\n",
      "\n",
      "Dear Sirs,\n",
      "\n",
      "Banking Facilities (\"Facilities\") Customer No. 301-385068 / 105-713820 / 201-495462 /105-721955 / 202-444139\n",
      "\n",
      "This Letter shall supersede our earlier Facilities Offer Letter dated 10 April 2017 [Our Reference: CS/BKG/MNC/ GWISCOP14160-122043019C/MA). As such, the previous letter shall be deemed null and void\n",
      "\n",
      "We refer to your recent request and are pleased to advise that we are prepared to provide you the Facilities subject to the terms and conditions herein.\n",
      "\n",
      "The Facilities are subject to review at any time, in any event by March 2019.\n",
      "\n",
      "The Facilities are subject always to the Bank's customary overriding right of suspension, withdrawal and repayment on demand. Other terms herein also apply which may allow the Bank to cease providing the Facilities to you.\n",
      "\n",
      "Please send us:\n",
      "\n",
      "· your latest set of audited accounts as soon as possible, and\n",
      "\n",
      "· two signed/certified copies of your next set of audited account or where they are out of date (more than 6 months), updated management accounts are to be submitted before the review date mentioned above.\n",
      "\n",
      "\n",
      "# Schneider Group/Global Facilities/Limits\n",
      "\n",
      "| Facilities\\* | Limit (USD) |\n",
      "| - | - |\n",
      "| Revolving Loan\\~ | 5,000,000 |\n",
      "| Common Limit# consisting of: | 5,000,000 |\n",
      "| - Bank Guarantee | (5,000,000) |\n",
      "| - Import/Export Line^consisting of :-| (5,000,000) |\n",
      " \\- Import Line \n",
      ". :selected: Documentary credits\n",
      "\n",
      "· Standby Letter of Credit\n",
      " :selected:\n",
      "· Banker's Acceptance Import\n",
      "\n",
      "· Loans Against Imports\n",
      "\n",
      "| | [Tenor : 90 days] |\n",
      "| - | - |\n",
      "| [Tenor: 120 days] ||\n",
      "| [Tenor: 120 days] ||\n",
      "\n",
      "HSBC Bank Malaysia Berhad No. 2, Leboh Ampang 50100 Kuala Lumpur, Malaysia\n",
      "\n",
      "www.hsbc.com.my\n",
      "\n"
     ]
    }
   ],
   "source": [
    "for document in documents:\n",
    "    print(document.page_content)"
   ]
  }
 ],
 "metadata": {
  "kernelspec": {
   "display_name": "Python 3",
   "language": "python",
   "name": "python3"
  },
  "language_info": {
   "codemirror_mode": {
    "name": "ipython",
    "version": 3
   },
   "file_extension": ".py",
   "mimetype": "text/x-python",
   "name": "python",
   "nbconvert_exporter": "python",
   "pygments_lexer": "ipython3",
   "version": "3.11.5"
  }
 },
 "nbformat": 4,
 "nbformat_minor": 2
}
